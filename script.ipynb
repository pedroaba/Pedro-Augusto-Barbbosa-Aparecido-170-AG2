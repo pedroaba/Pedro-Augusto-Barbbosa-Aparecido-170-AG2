{
 "cells": [
  {
   "cell_type": "code",
   "id": "initial_id",
   "metadata": {
    "collapsed": true,
    "ExecuteTime": {
     "end_time": "2025-06-20T14:50:42.268767Z",
     "start_time": "2025-06-20T14:50:42.266382Z"
    }
   },
   "source": [
    "import pandas as pd\n",
    "from sklearn.metrics import accuracy_score, confusion_matrix, classification_report\n",
    "from sklearn.model_selection import train_test_split\n",
    "from sklearn.preprocessing import LabelEncoder\n",
    "from sklearn.tree import DecisionTreeClassifier\n",
    "\n",
    "# import engine to load database data\n",
    "from sqlalchemy import create_engine"
   ],
   "outputs": [],
   "execution_count": 9
  },
  {
   "cell_type": "code",
   "id": "4d911183be286a15",
   "metadata": {
    "ExecuteTime": {
     "end_time": "2025-06-20T14:50:42.290279Z",
     "start_time": "2025-06-20T14:50:42.286566Z"
    }
   },
   "source": [
    "import os\n",
    "import dotenv\n",
    "\n",
    "# loading environment vars\n",
    "dotenv.load_dotenv()\n",
    "MYSQL_USER = os.getenv(\"MYSQL_USER\", default=\"root\")\n",
    "MYSQL_PASSWORD = os.getenv(\"MYSQL_PASSWORD\", default=\"<PASSWORD>\")"
   ],
   "outputs": [],
   "execution_count": 10
  },
  {
   "cell_type": "code",
   "id": "5412b843911f245f",
   "metadata": {
    "ExecuteTime": {
     "end_time": "2025-06-20T14:50:42.316402Z",
     "start_time": "2025-06-20T14:50:42.310104Z"
    }
   },
   "source": [
    "class Connection:\n",
    "    engine = None\n",
    "\n",
    "    @staticmethod\n",
    "    def connect(host: str = 'localhost', port: int = 3306):\n",
    "        connection_string = f\"mysql+pymysql://{MYSQL_USER}:{MYSQL_PASSWORD}@{host}/statlog?charset=utf8\"\n",
    "\n",
    "        Connection.engine = create_engine(connection_string)\n",
    "\n",
    "    @staticmethod\n",
    "    def disconnect():\n",
    "        if Connection.engine is not None:\n",
    "            Connection.engine.dispose()\n",
    "\n",
    "# connecting to database\n",
    "Connection.connect()\n"
   ],
   "outputs": [],
   "execution_count": 11
  },
  {
   "cell_type": "code",
   "id": "aefac560ad382bec",
   "metadata": {
    "ExecuteTime": {
     "end_time": "2025-06-20T14:50:42.344312Z",
     "start_time": "2025-06-20T14:50:42.340719Z"
    }
   },
   "source": [
    "model = None\n",
    "label_encoders = {}"
   ],
   "outputs": [],
   "execution_count": 12
  },
  {
   "cell_type": "code",
   "id": "33eece9d467de5d9",
   "metadata": {
    "ExecuteTime": {
     "end_time": "2025-06-20T14:50:42.423038Z",
     "start_time": "2025-06-20T14:50:42.376572Z"
    }
   },
   "source": [
    "# reading database\n",
    "df = pd.read_sql(\"SELECT * FROM germancredit\", Connection.engine)\n",
    "\n",
    "categorical_columns = df.select_dtypes(include=['object']).columns.tolist()\n",
    "numerical_columns = df.select_dtypes(include=['int64', 'float64']).columns.tolist()\n",
    "\n",
    "if 'kredit' in numerical_columns:\n",
    "    numerical_columns.remove('kredit')\n",
    "\n",
    "for col in categorical_columns:\n",
    "    le = LabelEncoder()\n",
    "    df[col] = le.fit_transform(df[col])\n",
    "    label_encoders[col] = le\n",
    "\n",
    "X = df.drop('kredit', axis=1)\n",
    "y = df['kredit']\n",
    "\n",
    "feature_names = X.columns.tolist()\n",
    "\n",
    "X_train, X_test, y_train, y_test = train_test_split(\n",
    "    X, y, test_size=0.2, random_state=42, stratify=y\n",
    ")\n",
    "\n",
    "print(f\"Dados pré-processados. Conjunto de treino: {X_train.shape}, Conjunto de teste: {X_test.shape}\")\n",
    "\n",
    "model = DecisionTreeClassifier(random_state=42)\n",
    "model.fit(X_train, y_train)\n",
    "y_pred = model.predict(X_test)\n",
    "\n",
    "accuracy = accuracy_score(y_test, y_pred)\n",
    "conf_matrix = confusion_matrix(y_test, y_pred)\n",
    "class_report = classification_report(y_test, y_pred)\n",
    "\n",
    "print(f\"\\n{'='*50}\")\n",
    "print(\"AVALIAÇÃO DO MODELO\")\n",
    "print(f\"{'='*50}\")\n",
    "print(f\"Acurácia: {accuracy:.4f}\")\n",
    "print(f\"\\nMatriz de Confusão:\")\n",
    "print(conf_matrix)\n",
    "print(f\"\\nRelatório de Classificação:\")\n",
    "print(class_report)\n",
    "print(f\"{'='*50}\")"
   ],
   "outputs": [
    {
     "name": "stdout",
     "output_type": "stream",
     "text": [
      "Dados pré-processados. Conjunto de treino: (800, 21), Conjunto de teste: (200, 21)\n",
      "\n",
      "==================================================\n",
      "AVALIAÇÃO DO MODELO\n",
      "==================================================\n",
      "Acurácia: 0.9050\n",
      "\n",
      "Matriz de Confusão:\n",
      "[[ 53   7]\n",
      " [ 12 128]]\n",
      "\n",
      "Relatório de Classificação:\n",
      "              precision    recall  f1-score   support\n",
      "\n",
      "           0       0.82      0.88      0.85        60\n",
      "           1       0.95      0.91      0.93       140\n",
      "\n",
      "    accuracy                           0.91       200\n",
      "   macro avg       0.88      0.90      0.89       200\n",
      "weighted avg       0.91      0.91      0.91       200\n",
      "\n",
      "==================================================\n"
     ]
    }
   ],
   "execution_count": 13
  },
  {
   "cell_type": "code",
   "id": "e0bcfb7fc45c34fc",
   "metadata": {
    "ExecuteTime": {
     "end_time": "2025-06-20T14:50:42.469372Z",
     "start_time": "2025-06-20T14:50:42.458711Z"
    }
   },
   "source": [
    "if model is None:\n",
    "    print(\"Model is not trained\")\n",
    "    Connection.disconnect()\n",
    "    exit(0)"
   ],
   "outputs": [],
   "execution_count": 14
  },
  {
   "cell_type": "code",
   "id": "2e62eeb6039c867e",
   "metadata": {
    "ExecuteTime": {
     "end_time": "2025-06-20T14:50:42.512137Z",
     "start_time": "2025-06-20T14:50:42.508209Z"
    }
   },
   "source": [
    "print(f\"\\n{'='*50}\")\n",
    "print(\"CLASSIFICAÇÃO DE NOVO CLIENTE\")\n",
    "print(f\"{'='*50}\")\n",
    "print(\"Por favor, insira os dados do cliente:\")"
   ],
   "outputs": [
    {
     "name": "stdout",
     "output_type": "stream",
     "text": [
      "\n",
      "==================================================\n",
      "CLASSIFICAÇÃO DE NOVO CLIENTE\n",
      "==================================================\n",
      "Por favor, insira os dados do cliente:\n"
     ]
    }
   ],
   "execution_count": 15
  },
  {
   "cell_type": "code",
   "id": "a6c8f304d2f0bf24",
   "metadata": {
    "ExecuteTime": {
     "end_time": "2025-06-20T14:50:42.562152Z",
     "start_time": "2025-06-20T14:50:42.557346Z"
    }
   },
   "source": [
    "def predict_new_data():\n",
    "    new_data = {}\n",
    "\n",
    "    for feature in feature_names:\n",
    "        if feature in categorical_columns:\n",
    "            les = label_encoders.get(feature)\n",
    "            if les:\n",
    "                options = list(les.classes_)\n",
    "                print(f\"\\n{feature} (opções: {', '.join(options)}):\")\n",
    "                value = input(\"> \")\n",
    "\n",
    "                try:\n",
    "                    new_data[feature] = les.transform([value])[0]\n",
    "                except Exception as e:\n",
    "                    print(f\"Valor inválido para {feature}. Usando o primeiro valor disponível.\", e)\n",
    "                    new_data[feature] = 0\n",
    "            else:\n",
    "                value = input(f\"{feature}: \")\n",
    "                new_data[feature] = value\n",
    "        else:\n",
    "            while True:\n",
    "                try:\n",
    "                    value = float(input(f\"{feature}: \"))\n",
    "                    new_data[feature] = value\n",
    "                    break\n",
    "                except ValueError:\n",
    "                    print(\"Por favor, insira um valor numérico válido.\")\n",
    "\n",
    "    new_df = pd.DataFrame([new_data])\n",
    "    prediction = model.predict(new_df)[0]\n",
    "\n",
    "    result = \"BOM\" if prediction == 1 else \"RUIM\"\n",
    "\n",
    "    print(f\"\\nResultado da classificação: Risco de crédito {result}\")\n",
    "    print(f\"{'='*50}\")\n"
   ],
   "outputs": [],
   "execution_count": 16
  },
  {
   "cell_type": "code",
   "id": "50f7974b2d299886",
   "metadata": {
    "ExecuteTime": {
     "end_time": "2025-06-20T14:50:45.947547Z",
     "start_time": "2025-06-20T14:50:42.592335Z"
    }
   },
   "source": [
    "while True:\n",
    "    predict_new_data()\n",
    "\n",
    "    continue_option = input(\"\\nDeseja classificar outro cliente? (s/n): \")\n",
    "    if continue_option.lower() != 's':\n",
    "        break"
   ],
   "outputs": [
    {
     "ename": "KeyboardInterrupt",
     "evalue": "Interrupted by user",
     "output_type": "error",
     "traceback": [
      "\u001B[31m---------------------------------------------------------------------------\u001B[39m",
      "\u001B[31mKeyboardInterrupt\u001B[39m                         Traceback (most recent call last)",
      "\u001B[36mCell\u001B[39m\u001B[36m \u001B[39m\u001B[32mIn[17]\u001B[39m\u001B[32m, line 2\u001B[39m\n\u001B[32m      1\u001B[39m \u001B[38;5;28;01mwhile\u001B[39;00m \u001B[38;5;28;01mTrue\u001B[39;00m:\n\u001B[32m----> \u001B[39m\u001B[32m2\u001B[39m     \u001B[43mpredict_new_data\u001B[49m\u001B[43m(\u001B[49m\u001B[43m)\u001B[49m\n\u001B[32m      4\u001B[39m     continue_option = \u001B[38;5;28minput\u001B[39m(\u001B[33m\"\u001B[39m\u001B[38;5;130;01m\\n\u001B[39;00m\u001B[33mDeseja classificar outro cliente? (s/n): \u001B[39m\u001B[33m\"\u001B[39m)\n\u001B[32m      5\u001B[39m     \u001B[38;5;28;01mif\u001B[39;00m continue_option.lower() != \u001B[33m'\u001B[39m\u001B[33ms\u001B[39m\u001B[33m'\u001B[39m:\n",
      "\u001B[36mCell\u001B[39m\u001B[36m \u001B[39m\u001B[32mIn[16]\u001B[39m\u001B[32m, line 23\u001B[39m, in \u001B[36mpredict_new_data\u001B[39m\u001B[34m()\u001B[39m\n\u001B[32m     21\u001B[39m \u001B[38;5;28;01mwhile\u001B[39;00m \u001B[38;5;28;01mTrue\u001B[39;00m:\n\u001B[32m     22\u001B[39m     \u001B[38;5;28;01mtry\u001B[39;00m:\n\u001B[32m---> \u001B[39m\u001B[32m23\u001B[39m         value = \u001B[38;5;28mfloat\u001B[39m(\u001B[38;5;28;43minput\u001B[39;49m\u001B[43m(\u001B[49m\u001B[33;43mf\u001B[39;49m\u001B[33;43m\"\u001B[39;49m\u001B[38;5;132;43;01m{\u001B[39;49;00m\u001B[43mfeature\u001B[49m\u001B[38;5;132;43;01m}\u001B[39;49;00m\u001B[33;43m: \u001B[39;49m\u001B[33;43m\"\u001B[39;49m\u001B[43m)\u001B[49m)\n\u001B[32m     24\u001B[39m         new_data[feature] = value\n\u001B[32m     25\u001B[39m         \u001B[38;5;28;01mbreak\u001B[39;00m\n",
      "\u001B[36mFile \u001B[39m\u001B[32m~/projects/ag2/.venv/lib/python3.13/site-packages/ipykernel/kernelbase.py:1282\u001B[39m, in \u001B[36mKernel.raw_input\u001B[39m\u001B[34m(self, prompt)\u001B[39m\n\u001B[32m   1280\u001B[39m     msg = \u001B[33m\"\u001B[39m\u001B[33mraw_input was called, but this frontend does not support input requests.\u001B[39m\u001B[33m\"\u001B[39m\n\u001B[32m   1281\u001B[39m     \u001B[38;5;28;01mraise\u001B[39;00m StdinNotImplementedError(msg)\n\u001B[32m-> \u001B[39m\u001B[32m1282\u001B[39m \u001B[38;5;28;01mreturn\u001B[39;00m \u001B[38;5;28;43mself\u001B[39;49m\u001B[43m.\u001B[49m\u001B[43m_input_request\u001B[49m\u001B[43m(\u001B[49m\n\u001B[32m   1283\u001B[39m \u001B[43m    \u001B[49m\u001B[38;5;28;43mstr\u001B[39;49m\u001B[43m(\u001B[49m\u001B[43mprompt\u001B[49m\u001B[43m)\u001B[49m\u001B[43m,\u001B[49m\n\u001B[32m   1284\u001B[39m \u001B[43m    \u001B[49m\u001B[38;5;28;43mself\u001B[39;49m\u001B[43m.\u001B[49m\u001B[43m_parent_ident\u001B[49m\u001B[43m[\u001B[49m\u001B[33;43m\"\u001B[39;49m\u001B[33;43mshell\u001B[39;49m\u001B[33;43m\"\u001B[39;49m\u001B[43m]\u001B[49m\u001B[43m,\u001B[49m\n\u001B[32m   1285\u001B[39m \u001B[43m    \u001B[49m\u001B[38;5;28;43mself\u001B[39;49m\u001B[43m.\u001B[49m\u001B[43mget_parent\u001B[49m\u001B[43m(\u001B[49m\u001B[33;43m\"\u001B[39;49m\u001B[33;43mshell\u001B[39;49m\u001B[33;43m\"\u001B[39;49m\u001B[43m)\u001B[49m\u001B[43m,\u001B[49m\n\u001B[32m   1286\u001B[39m \u001B[43m    \u001B[49m\u001B[43mpassword\u001B[49m\u001B[43m=\u001B[49m\u001B[38;5;28;43;01mFalse\u001B[39;49;00m\u001B[43m,\u001B[49m\n\u001B[32m   1287\u001B[39m \u001B[43m\u001B[49m\u001B[43m)\u001B[49m\n",
      "\u001B[36mFile \u001B[39m\u001B[32m~/projects/ag2/.venv/lib/python3.13/site-packages/ipykernel/kernelbase.py:1325\u001B[39m, in \u001B[36mKernel._input_request\u001B[39m\u001B[34m(self, prompt, ident, parent, password)\u001B[39m\n\u001B[32m   1322\u001B[39m \u001B[38;5;28;01mexcept\u001B[39;00m \u001B[38;5;167;01mKeyboardInterrupt\u001B[39;00m:\n\u001B[32m   1323\u001B[39m     \u001B[38;5;66;03m# re-raise KeyboardInterrupt, to truncate traceback\u001B[39;00m\n\u001B[32m   1324\u001B[39m     msg = \u001B[33m\"\u001B[39m\u001B[33mInterrupted by user\u001B[39m\u001B[33m\"\u001B[39m\n\u001B[32m-> \u001B[39m\u001B[32m1325\u001B[39m     \u001B[38;5;28;01mraise\u001B[39;00m \u001B[38;5;167;01mKeyboardInterrupt\u001B[39;00m(msg) \u001B[38;5;28;01mfrom\u001B[39;00m\u001B[38;5;250m \u001B[39m\u001B[38;5;28;01mNone\u001B[39;00m\n\u001B[32m   1326\u001B[39m \u001B[38;5;28;01mexcept\u001B[39;00m \u001B[38;5;167;01mException\u001B[39;00m:\n\u001B[32m   1327\u001B[39m     \u001B[38;5;28mself\u001B[39m.log.warning(\u001B[33m\"\u001B[39m\u001B[33mInvalid Message:\u001B[39m\u001B[33m\"\u001B[39m, exc_info=\u001B[38;5;28;01mTrue\u001B[39;00m)\n",
      "\u001B[31mKeyboardInterrupt\u001B[39m: Interrupted by user"
     ]
    }
   ],
   "execution_count": 17
  },
  {
   "cell_type": "code",
   "id": "ffdad01e8791ddf6",
   "metadata": {
    "ExecuteTime": {
     "end_time": "2025-06-20T14:50:51.949286Z",
     "start_time": "2025-06-20T14:50:51.946111Z"
    }
   },
   "source": [
    "Connection.disconnect()"
   ],
   "outputs": [],
   "execution_count": 18
  }
 ],
 "metadata": {
  "kernelspec": {
   "display_name": "Python 3",
   "language": "python",
   "name": "python3"
  },
  "language_info": {
   "codemirror_mode": {
    "name": "ipython",
    "version": 2
   },
   "file_extension": ".py",
   "mimetype": "text/x-python",
   "name": "python",
   "nbconvert_exporter": "python",
   "pygments_lexer": "ipython2",
   "version": "2.7.6"
  }
 },
 "nbformat": 4,
 "nbformat_minor": 5
}
